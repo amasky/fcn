{
 "cells": [
  {
   "cell_type": "markdown",
   "metadata": {},
   "source": [
    "# Fully Convolutional Networks (model initialization)"
   ]
  },
  {
   "cell_type": "markdown",
   "metadata": {},
   "source": [
    "### download VGGNet and load weights with Chainer"
   ]
  },
  {
   "cell_type": "code",
   "execution_count": 1,
   "metadata": {
    "collapsed": false
   },
   "outputs": [],
   "source": [
    "import os.path\n",
    "import numpy as np\n",
    "\n",
    "import chainer\n",
    "from chainer import serializers\n",
    "from chainer import functions as F\n",
    "from chainer import links as L\n",
    "import chainer.functions.caffe"
   ]
  },
  {
   "cell_type": "code",
   "execution_count": 2,
   "metadata": {
    "collapsed": true
   },
   "outputs": [],
   "source": [
    "path_chainermodel = 'VGG_ILSVRC_16_layers.chainermodel'\n",
    "path_caffemodel = 'VGG_ILSVRC_16_layers.caffemodel'"
   ]
  },
  {
   "cell_type": "code",
   "execution_count": 3,
   "metadata": {
    "collapsed": false
   },
   "outputs": [],
   "source": [
    "if os.path.isfile(path_chainermodel):\n",
    "    from vggnet16 import VGGNet16\n",
    "    vggnet = VGGNet16()\n",
    "    chainer.serializers.load_hdf5(path_chainermodel, vggnet)\n",
    "else:\n",
    "    if not os.path.isfile(path_caffemodel):\n",
    "        ! wget http://www.robots.ox.ac.uk/~vgg/software/very_deep/caffe/VGG_ILSVRC_16_layers.caffemodel\n",
    "    vggnet = F.caffe.CaffeFunction(path_caffemodel)\n",
    "    chainer.serializers.save_hdf5(path_chainermodel, vggnet)"
   ]
  },
  {
   "cell_type": "markdown",
   "metadata": {},
   "source": [
    "### initialize added conv (score) layer with 0 and deconv layer with bilinear interpolation"
   ]
  },
  {
   "cell_type": "code",
   "execution_count": 4,
   "metadata": {
    "collapsed": false
   },
   "outputs": [],
   "source": [
    "w_up2 = np.zeros(shape=(81,81,4,4), dtype=np.float32)\n",
    "w_up8 = np.zeros(shape=(81,81,16,16), dtype=np.float32)\n",
    "for i in range(w_up2.shape[0]):\n",
    "    w_up2[i, i, :, :] = 0.25\n",
    "for i in range(w_up8.shape[0]):\n",
    "    w_up8[i, i, :, :] = 0.25"
   ]
  },
  {
   "cell_type": "code",
   "execution_count": 5,
   "metadata": {
    "collapsed": false
   },
   "outputs": [],
   "source": [
    "class FCN(chainer.Chain):\n",
    "\n",
    "    def __init__(self):\n",
    "        super(self.__class__, self).__init__(\n",
    "            conv1_1=L.Convolution2D(3, 64, ksize=3, stride=1, pad=100),\n",
    "            conv1_2=L.Convolution2D(64, 64, ksize=3, stride=1, pad=1),\n",
    "\n",
    "            conv2_1=L.Convolution2D(64, 128, ksize=3, stride=1, pad=1),\n",
    "            conv2_2=L.Convolution2D(128, 128, ksize=3, stride=1, pad=1),\n",
    "\n",
    "            conv3_1=L.Convolution2D(128, 256, ksize=3, stride=1, pad=1),\n",
    "            conv3_2=L.Convolution2D(256, 256, ksize=3, stride=1, pad=1),\n",
    "            conv3_3=L.Convolution2D(256, 256, ksize=3, stride=1, pad=1),\n",
    "\n",
    "            conv4_1=L.Convolution2D(256, 512, ksize=3, stride=1, pad=1),\n",
    "            conv4_2=L.Convolution2D(512, 512, ksize=3, stride=1, pad=1),\n",
    "            conv4_3=L.Convolution2D(512, 512, ksize=3, stride=1, pad=1),\n",
    "\n",
    "            conv5_1=L.Convolution2D(512, 512, ksize=3, stride=1, pad=1),\n",
    "            conv5_2=L.Convolution2D(512, 512, ksize=3, stride=1, pad=1),\n",
    "            conv5_3=L.Convolution2D(512, 512, ksize=3, stride=1, pad=1),\n",
    "\n",
    "            fc6=L.Convolution2D(512, 4096, ksize=7, stride=1, pad=0),\n",
    "            fc7=L.Convolution2D(4096, 4096, ksize=1, stride=1, pad=0),\n",
    "            \n",
    "            \n",
    "            # fc7\n",
    "            score_fr=L.Convolution2D(4096, 81, ksize=1, stride=1, pad=0),\n",
    "            upscore2=L.Deconvolution2D(81, 81, ksize=4, stride=2, pad=0, \\\n",
    "                                       nobias=True, initialW=w_up2),\n",
    "            \n",
    "            # pool4\n",
    "            score_pool4=L.Convolution2D(512, 81, ksize=1, stride=1, pad=0, bias=0, \\\n",
    "                                        initialW=np.zeros(shape=(81,512,1,1), dtype=np.float32)),\n",
    "            upscore_pool4=L.Deconvolution2D(81, 81, ksize=4, stride=2, pad=0, \\\n",
    "                                            nobias=True, initialW=w_up2),\n",
    "            \n",
    "            # pool3\n",
    "            score_pool3=L.Convolution2D(256, 81, ksize=1, stride=1, pad=0, bias=0, \\\n",
    "                                        initialW=np.zeros(shape=(81,256,1,1), dtype=np.float32)),\n",
    "            upscore8=L.Deconvolution2D(81, 81, ksize=16, stride=8, pad=0, \\\n",
    "                                       nobias=True, initialW=w_up8),\n",
    "        )"
   ]
  },
  {
   "cell_type": "markdown",
   "metadata": {},
   "source": [
    "### copy weights of VGGNet to FCN"
   ]
  },
  {
   "cell_type": "code",
   "execution_count": 6,
   "metadata": {
    "collapsed": false
   },
   "outputs": [
    {
     "name": "stdout",
     "output_type": "stream",
     "text": [
      "could not broadcast input array from shape (4096,25088) into shape (4096,512,7,7)\n",
      "could not broadcast input array from shape (4096,4096) into shape (4096,4096,1,1)\n"
     ]
    }
   ],
   "source": [
    "fcn = FCN()\n",
    "\n",
    "for src_param in vggnet.children():\n",
    "    for dst_param in fcn.children():\n",
    "        if dst_param.name == src_param.name:\n",
    "            try:\n",
    "                dst_param.copyparams(src_param)\n",
    "            except Exception as e:\n",
    "                print(e)\n",
    "            continue"
   ]
  },
  {
   "cell_type": "code",
   "execution_count": 7,
   "metadata": {
    "collapsed": false
   },
   "outputs": [],
   "source": [
    "fcn.fc6.W.data = vggnet.fc6.W.data.reshape(4096, 512, 7, 7)\n",
    "fcn.fc6.b.data = vggnet.fc6.b.data\n",
    "fcn.fc7.W.data = vggnet.fc7.W.data.reshape(4096, 4096, 1, 1)\n",
    "fcn.fc7.b.data = vggnet.fc7.b.data"
   ]
  },
  {
   "cell_type": "code",
   "execution_count": 8,
   "metadata": {
    "collapsed": false
   },
   "outputs": [],
   "source": [
    "chainer.serializers.save_hdf5('fcn_init.chainermodel', fcn)"
   ]
  }
 ],
 "metadata": {
  "anaconda-cloud": {},
  "kernelspec": {
   "display_name": "Python [default]",
   "language": "python",
   "name": "python2"
  },
  "language_info": {
   "codemirror_mode": {
    "name": "ipython",
    "version": 2
   },
   "file_extension": ".py",
   "mimetype": "text/x-python",
   "name": "python",
   "nbconvert_exporter": "python",
   "pygments_lexer": "ipython2",
   "version": "2.7.12"
  }
 },
 "nbformat": 4,
 "nbformat_minor": 0
}
